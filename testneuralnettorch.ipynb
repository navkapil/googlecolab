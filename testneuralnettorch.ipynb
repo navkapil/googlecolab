{
  "nbformat": 4,
  "nbformat_minor": 0,
  "metadata": {
    "colab": {
      "name": "testneuralnettorch.ipynb",
      "provenance": [],
      "collapsed_sections": [],
      "authorship_tag": "ABX9TyNV3w/ko+8rsnu2RpdcbQj9",
      "include_colab_link": true
    },
    "kernelspec": {
      "name": "python3",
      "display_name": "Python 3"
    }
  },
  "cells": [
    {
      "cell_type": "markdown",
      "metadata": {
        "id": "view-in-github",
        "colab_type": "text"
      },
      "source": [
        "<a href=\"https://colab.research.google.com/github/navkapil/googlecolab/blob/master/testneuralnettorch.ipynb\" target=\"_parent\"><img src=\"https://colab.research.google.com/assets/colab-badge.svg\" alt=\"Open In Colab\"/></a>"
      ]
    },
    {
      "cell_type": "code",
      "metadata": {
        "id": "JCfJhec9b3Rz",
        "colab_type": "code",
        "colab": {}
      },
      "source": [
        "import torch\n",
        "import torch.nn as nn"
      ],
      "execution_count": 2,
      "outputs": []
    },
    {
      "cell_type": "code",
      "metadata": {
        "id": "Wsa46Hrdb7mE",
        "colab_type": "code",
        "colab": {}
      },
      "source": [
        "x = torch.rand([5,3])"
      ],
      "execution_count": 5,
      "outputs": []
    },
    {
      "cell_type": "code",
      "metadata": {
        "id": "7ENzA5IYcMJg",
        "colab_type": "code",
        "colab": {
          "base_uri": "https://localhost:8080/",
          "height": 109
        },
        "outputId": "73f316fd-b7fc-49dd-8d8b-0df2520b127e"
      },
      "source": [
        "print(x)"
      ],
      "execution_count": 6,
      "outputs": [
        {
          "output_type": "stream",
          "text": [
            "tensor([[0.1255, 0.4917, 0.6697],\n",
            "        [0.7998, 0.3996, 0.7058],\n",
            "        [0.0704, 0.6394, 0.8943],\n",
            "        [0.2087, 0.0446, 0.8783],\n",
            "        [0.1825, 0.4769, 0.4000]])\n"
          ],
          "name": "stdout"
        }
      ]
    },
    {
      "cell_type": "code",
      "metadata": {
        "id": "u8nC5_RKcN6Y",
        "colab_type": "code",
        "colab": {}
      },
      "source": [
        "X = torch.tensor(([2, 9], [1, 5], [3, 6]), dtype=torch.float) # 3 X 2 tensor\n",
        "y = torch.tensor(([[92]], [[100]], [[89]]), dtype=torch.float) # 3 X 1 tensor\n",
        "xPredicted = torch.tensor(([4, 8]), dtype=torch.float) # 1 X 2 tensor"
      ],
      "execution_count": 7,
      "outputs": []
    },
    {
      "cell_type": "code",
      "metadata": {
        "id": "15pt7L7ZdWpJ",
        "colab_type": "code",
        "colab": {
          "base_uri": "https://localhost:8080/",
          "height": 35
        },
        "outputId": "0050a309-6a04-4173-91cf-8e2220acce32"
      },
      "source": [
        "print(xPredicted.size())"
      ],
      "execution_count": 8,
      "outputs": [
        {
          "output_type": "stream",
          "text": [
            "torch.Size([2])\n"
          ],
          "name": "stdout"
        }
      ]
    },
    {
      "cell_type": "code",
      "metadata": {
        "id": "T5grHuivdb9g",
        "colab_type": "code",
        "colab": {
          "base_uri": "https://localhost:8080/",
          "height": 201
        },
        "outputId": "f0af11fb-260b-4b47-f2b3-f80cfc732fe6"
      },
      "source": [
        "# scale units\n",
        "X_max, _ = torch.max(X, 0)\n",
        "print(X_max)\n",
        "print(_)\n",
        "xPredicted_max, _ = torch.max(xPredicted, 0)\n",
        "\n",
        "print(xPredicted_max)\n",
        "print(_)\n",
        "X = torch.div(X, X_max)\n",
        "xPredicted = torch.div(xPredicted, xPredicted_max)\n",
        "print(xPredicted)\n",
        "y = y / 100  # max test score is 100\n",
        "print(y)\n"
      ],
      "execution_count": 9,
      "outputs": [
        {
          "output_type": "stream",
          "text": [
            "tensor([3., 9.])\n",
            "tensor([2, 0])\n",
            "tensor(8.)\n",
            "tensor(1)\n",
            "tensor([0.5000, 1.0000])\n",
            "tensor([[[0.9200]],\n",
            "\n",
            "        [[1.0000]],\n",
            "\n",
            "        [[0.8900]]])\n"
          ],
          "name": "stdout"
        }
      ]
    },
    {
      "cell_type": "code",
      "metadata": {
        "id": "7lgTxuZMgvfI",
        "colab_type": "code",
        "colab": {
          "base_uri": "https://localhost:8080/",
          "height": 35
        },
        "outputId": "affc6c74-4f64-4d14-ad82-92fde715fa16"
      },
      "source": [
        "print(_)"
      ],
      "execution_count": 10,
      "outputs": [
        {
          "output_type": "stream",
          "text": [
            "tensor(1)\n"
          ],
          "name": "stdout"
        }
      ]
    },
    {
      "cell_type": "code",
      "metadata": {
        "id": "7MMwYn04gzpA",
        "colab_type": "code",
        "colab": {
          "base_uri": "https://localhost:8080/",
          "height": 219
        },
        "outputId": "cd9ccb6d-d897-4212-e5e8-98063c04d6c3"
      },
      "source": [
        "a = torch.randn(4, 4)\n",
        "print(a)\n",
        "print(torch.max(a))\n",
        "print(torch.max(a,0))\n",
        "print(torch.max(a,1))"
      ],
      "execution_count": 11,
      "outputs": [
        {
          "output_type": "stream",
          "text": [
            "tensor([[ 0.5133,  2.0931, -1.2305, -0.7245],\n",
            "        [ 1.3396,  1.3410,  0.2717, -0.0973],\n",
            "        [-2.0923,  0.3664,  1.0164,  0.1754],\n",
            "        [-3.2838,  1.5086, -1.2314, -0.1353]])\n",
            "tensor(2.0931)\n",
            "torch.return_types.max(\n",
            "values=tensor([1.3396, 2.0931, 1.0164, 0.1754]),\n",
            "indices=tensor([1, 0, 2, 2]))\n",
            "torch.return_types.max(\n",
            "values=tensor([2.0931, 1.3410, 1.0164, 1.5086]),\n",
            "indices=tensor([1, 1, 2, 1]))\n"
          ],
          "name": "stdout"
        }
      ]
    },
    {
      "cell_type": "code",
      "metadata": {
        "id": "3MG8fMggt-tj",
        "colab_type": "code",
        "colab": {}
      },
      "source": [
        "class Neural_Network(nn.Module):\n",
        "    def __init__(self, ):\n",
        "        super(Neural_Network, self).__init__()\n",
        "        # parameters\n",
        "        # TODO: parameters can be parameterized instead of declaring them here\n",
        "        self.inputSize = 2\n",
        "        self.outputSize = 1\n",
        "        self.hiddenSize = 3\n",
        "        \n",
        "        # weights\n",
        "        self.W1 = torch.randn(self.inputSize, self.hiddenSize) # 2 X 3 tensor\n",
        "        self.W2 = torch.randn(self.hiddenSize, self.outputSize) # 3 X 1 tensor\n",
        "        \n",
        "    def forward(self, X):\n",
        "        print(\"In forward\")\n",
        "        self.z = torch.matmul(X, self.W1) # 3 X 3 \".dot\" does not broadcast in PyTorch\n",
        "        print(self.z)\n",
        "        self.z2 = self.sigmoid(self.z) # activation function\n",
        "        print(\"Output of hidden layer --\")\n",
        "        print(self.z2)\n",
        "        self.z3 = torch.matmul(self.z2, self.W2)\n",
        "        print(self.z3)\n",
        "        o = self.sigmoid(self.z3) # final activation function\n",
        "        print(\"the output is-\")\n",
        "        print(o)\n",
        "        return o\n",
        "        \n",
        "    def sigmoid(self, s):\n",
        "        return 1 / (1 + torch.exp(-s))\n",
        "    \n",
        "    def sigmoidPrime(self, s):\n",
        "        # derivative of sigmoid\n",
        "        return s * (1 - s)\n",
        "    \n",
        "    def backward(self, X, y, o):\n",
        "        self.o_error = y - o # error in output\n",
        "        self.o_delta = self.o_error * self.sigmoidPrime(o) # derivative of sig to error\n",
        "        self.z2_error = torch.matmul(self.o_delta, torch.t(self.W2))\n",
        "        self.z2_delta = self.z2_error * self.sigmoidPrime(self.z2)\n",
        "        self.W1 += torch.matmul(torch.t(X), self.z2_delta)\n",
        "        self.W2 += torch.matmul(torch.t(self.z2), self.o_delta)\n",
        "        \n",
        "    def train(self, X, y):\n",
        "        # forward + backward pass for training\n",
        "        o = self.forward(X)\n",
        "        self.backward(X, y, o)\n",
        "        \n",
        "    def saveWeights(self, model):\n",
        "        # we will use the PyTorch internal storage functions\n",
        "        torch.save(model, \"NN\")\n",
        "        # you can reload model with all the weights and so forth with:\n",
        "        # torch.load(\"NN\")\n",
        "        \n",
        "    def predict(self):\n",
        "        print (\"Predicted data based on trained weights: \")\n",
        "        print (\"Input (scaled): \\n\" + str(xPredicted))\n",
        "        print (\"Output: \\n\" + str(self.forward(xPredicted)))"
      ],
      "execution_count": 3,
      "outputs": []
    },
    {
      "cell_type": "code",
      "metadata": {
        "id": "jBGdBYckA3Pd",
        "colab_type": "code",
        "colab": {
          "base_uri": "https://localhost:8080/",
          "height": 164
        },
        "outputId": "09f485c6-7464-4bc1-b858-6832c391a6f5"
      },
      "source": [
        "nn1 = Neural_Network()\n",
        "nn1.forward(torch.ones([1,2]))"
      ],
      "execution_count": 13,
      "outputs": [
        {
          "output_type": "stream",
          "text": [
            "In forward\n",
            "tensor([[-0.8696, -1.8627,  1.8113]])\n",
            "Output of hidden layer --\n",
            "tensor([[0.2953, 0.1344, 0.8595]])\n",
            "tensor([[-0.5148]])\n",
            "the output is-\n",
            "tensor([[0.3741]])\n"
          ],
          "name": "stdout"
        },
        {
          "output_type": "execute_result",
          "data": {
            "text/plain": [
              "tensor([[0.3741]])"
            ]
          },
          "metadata": {
            "tags": []
          },
          "execution_count": 13
        }
      ]
    },
    {
      "cell_type": "code",
      "metadata": {
        "id": "8vphxgoMBFLC",
        "colab_type": "code",
        "colab": {
          "base_uri": "https://localhost:8080/",
          "height": 54
        },
        "outputId": "3e01f760-73cf-4494-9a4c-c61eda3753cf"
      },
      "source": [
        "print(nn1.W1)"
      ],
      "execution_count": 14,
      "outputs": [
        {
          "output_type": "stream",
          "text": [
            "tensor([[-1.0846, -0.3387,  1.0543],\n",
            "        [ 0.2150, -1.5240,  0.7570]])\n"
          ],
          "name": "stdout"
        }
      ]
    },
    {
      "cell_type": "code",
      "metadata": {
        "id": "63nrIwATBNgR",
        "colab_type": "code",
        "colab": {
          "base_uri": "https://localhost:8080/",
          "height": 54
        },
        "outputId": "770e3472-27e1-4a50-ee2c-f1234ec18ed5"
      },
      "source": [
        "nn1.sigmoid(torch.zeros([2,1]))"
      ],
      "execution_count": 15,
      "outputs": [
        {
          "output_type": "execute_result",
          "data": {
            "text/plain": [
              "tensor([[0.5000],\n",
              "        [0.5000]])"
            ]
          },
          "metadata": {
            "tags": []
          },
          "execution_count": 15
        }
      ]
    },
    {
      "cell_type": "code",
      "metadata": {
        "id": "sT_YZvQaBTah",
        "colab_type": "code",
        "colab": {
          "base_uri": "https://localhost:8080/",
          "height": 348
        },
        "outputId": "5b809103-324c-470b-fb27-39bccf590460"
      },
      "source": [
        "nn1(X)"
      ],
      "execution_count": 16,
      "outputs": [
        {
          "output_type": "stream",
          "text": [
            "In forward\n",
            "tensor([[-0.5081, -1.7498,  1.4598],\n",
            "        [-0.2421, -0.9595,  0.7720],\n",
            "        [-0.9413, -1.3547,  1.5589]])\n",
            "Output of hidden layer --\n",
            "tensor([[0.3756, 0.1481, 0.8115],\n",
            "        [0.4398, 0.2770, 0.6839],\n",
            "        [0.2806, 0.2051, 0.8262]])\n",
            "tensor([[-0.5658],\n",
            "        [-0.6001],\n",
            "        [-0.5055]])\n",
            "the output is-\n",
            "tensor([[0.3622],\n",
            "        [0.3543],\n",
            "        [0.3762]])\n"
          ],
          "name": "stdout"
        },
        {
          "output_type": "execute_result",
          "data": {
            "text/plain": [
              "tensor([[0.3622],\n",
              "        [0.3543],\n",
              "        [0.3762]])"
            ]
          },
          "metadata": {
            "tags": []
          },
          "execution_count": 16
        }
      ]
    },
    {
      "cell_type": "code",
      "metadata": {
        "id": "NLFeBPVYtDcn",
        "colab_type": "code",
        "colab": {
          "base_uri": "https://localhost:8080/",
          "height": 293
        },
        "outputId": "c5272add-ee5c-47ba-ce03-b6bc55349487"
      },
      "source": [
        "nn1.train(X,-1)"
      ],
      "execution_count": 19,
      "outputs": [
        {
          "output_type": "stream",
          "text": [
            "In forward\n",
            "tensor([[-0.5081, -1.7498,  1.4598],\n",
            "        [-0.2421, -0.9595,  0.7720],\n",
            "        [-0.9413, -1.3547,  1.5589]])\n",
            "Output of hidden layer --\n",
            "tensor([[0.3756, 0.1481, 0.8115],\n",
            "        [0.4398, 0.2770, 0.6839],\n",
            "        [0.2806, 0.2051, 0.8262]])\n",
            "tensor([[-0.5658],\n",
            "        [-0.6001],\n",
            "        [-0.5055]])\n",
            "the output is-\n",
            "tensor([[0.3622],\n",
            "        [0.3543],\n",
            "        [0.3762]])\n"
          ],
          "name": "stdout"
        }
      ]
    },
    {
      "cell_type": "code",
      "metadata": {
        "id": "MiGY4555kHsG",
        "colab_type": "code",
        "colab": {
          "base_uri": "https://localhost:8080/",
          "height": 237
        },
        "outputId": "6cf94016-20d1-4489-d61b-d446c12611bc"
      },
      "source": [
        "nn1.predict()"
      ],
      "execution_count": 21,
      "outputs": [
        {
          "output_type": "stream",
          "text": [
            "Predicted data based on trained weights: \n",
            "Input (scaled): \n",
            "tensor([0.5000, 1.0000])\n",
            "In forward\n",
            "tensor([-0.1469, -1.6656,  1.3344])\n",
            "Output of hidden layer --\n",
            "tensor([0.4633, 0.1590, 0.7916])\n",
            "tensor([-1.4032])\n",
            "the output is-\n",
            "tensor([0.1973])\n",
            "Output: \n",
            "tensor([0.1973])\n"
          ],
          "name": "stdout"
        }
      ]
    },
    {
      "cell_type": "code",
      "metadata": {
        "id": "_zlgY2PUlLJU",
        "colab_type": "code",
        "colab": {}
      },
      "source": [
        ""
      ],
      "execution_count": null,
      "outputs": []
    }
  ]
}