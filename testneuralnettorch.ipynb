{
  "nbformat": 4,
  "nbformat_minor": 0,
  "metadata": {
    "colab": {
      "name": "testneuralnettorch.ipynb",
      "provenance": [],
      "collapsed_sections": [],
      "authorship_tag": "ABX9TyNV3w/ko+8rsnu2RpdcbQj9",
      "include_colab_link": true
    },
    "kernelspec": {
      "name": "python3",
      "display_name": "Python 3"
    }
  },
  "cells": [
    {
      "cell_type": "markdown",
      "metadata": {
        "id": "view-in-github",
        "colab_type": "text"
      },
      "source": [
        "<a href=\"https://colab.research.google.com/github/navkapil/googlecolab/blob/master/testneuralnettorch.ipynb\" target=\"_parent\"><img src=\"https://colab.research.google.com/assets/colab-badge.svg\" alt=\"Open In Colab\"/></a>"
      ]
    },
    {
      "cell_type": "code",
      "metadata": {
        "id": "JCfJhec9b3Rz",
        "colab_type": "code",
        "colab": {}
      },
      "source": [
        "import torch\n",
        "import torch.nn as nn"
      ],
      "execution_count": 1,
      "outputs": []
    },
    {
      "cell_type": "code",
      "metadata": {
        "id": "Wsa46Hrdb7mE",
        "colab_type": "code",
        "colab": {}
      },
      "source": [
        "x = torch.rand([5,3])"
      ],
      "execution_count": 2,
      "outputs": []
    },
    {
      "cell_type": "code",
      "metadata": {
        "id": "7ENzA5IYcMJg",
        "colab_type": "code",
        "colab": {
          "base_uri": "https://localhost:8080/",
          "height": 109
        },
        "outputId": "1b2f5c0a-0c37-4c86-8fae-a98c3a666b5b"
      },
      "source": [
        "print(x)"
      ],
      "execution_count": 3,
      "outputs": [
        {
          "output_type": "stream",
          "text": [
            "tensor([[0.7227, 0.7687, 0.8792],\n",
            "        [0.7395, 0.7416, 0.1451],\n",
            "        [0.9433, 0.5178, 0.7514],\n",
            "        [0.9370, 0.5633, 0.9597],\n",
            "        [0.8568, 0.7078, 0.6316]])\n"
          ],
          "name": "stdout"
        }
      ]
    },
    {
      "cell_type": "code",
      "metadata": {
        "id": "u8nC5_RKcN6Y",
        "colab_type": "code",
        "colab": {}
      },
      "source": [
        "X = torch.tensor(([2, 9], [1, 5], [3, 6]), dtype=torch.float) # 3 X 2 tensor\n",
        "y = torch.tensor(([[92]], [[100]], [[89]]), dtype=torch.float) # 3 X 1 tensor\n",
        "xPredicted = torch.tensor(([4, 8]), dtype=torch.float) # 1 X 2 tensor"
      ],
      "execution_count": 4,
      "outputs": []
    },
    {
      "cell_type": "code",
      "metadata": {
        "id": "15pt7L7ZdWpJ",
        "colab_type": "code",
        "colab": {
          "base_uri": "https://localhost:8080/",
          "height": 35
        },
        "outputId": "33665200-4889-469a-c0f4-ccb055d1e2bb"
      },
      "source": [
        "print(xPredicted.size())"
      ],
      "execution_count": 5,
      "outputs": [
        {
          "output_type": "stream",
          "text": [
            "torch.Size([2])\n"
          ],
          "name": "stdout"
        }
      ]
    },
    {
      "cell_type": "code",
      "metadata": {
        "id": "T5grHuivdb9g",
        "colab_type": "code",
        "colab": {
          "base_uri": "https://localhost:8080/",
          "height": 201
        },
        "outputId": "ae31226e-53d3-40a1-fe5f-042a1b12a368"
      },
      "source": [
        "# scale units\n",
        "X_max, _ = torch.max(X, 0)\n",
        "print(X_max)\n",
        "print(_)\n",
        "xPredicted_max, _ = torch.max(xPredicted, 0)\n",
        "\n",
        "print(xPredicted_max)\n",
        "print(_)\n",
        "X = torch.div(X, X_max)\n",
        "xPredicted = torch.div(xPredicted, xPredicted_max)\n",
        "print(xPredicted)\n",
        "y = y / 100  # max test score is 100\n",
        "print(y)\n"
      ],
      "execution_count": 6,
      "outputs": [
        {
          "output_type": "stream",
          "text": [
            "tensor([3., 9.])\n",
            "tensor([2, 0])\n",
            "tensor(8.)\n",
            "tensor(1)\n",
            "tensor([0.5000, 1.0000])\n",
            "tensor([[[0.9200]],\n",
            "\n",
            "        [[1.0000]],\n",
            "\n",
            "        [[0.8900]]])\n"
          ],
          "name": "stdout"
        }
      ]
    },
    {
      "cell_type": "code",
      "metadata": {
        "id": "7lgTxuZMgvfI",
        "colab_type": "code",
        "colab": {
          "base_uri": "https://localhost:8080/",
          "height": 35
        },
        "outputId": "5f977cae-b8e3-412c-92e7-8f94d3722c1b"
      },
      "source": [
        "print(_)"
      ],
      "execution_count": 7,
      "outputs": [
        {
          "output_type": "stream",
          "text": [
            "tensor(1)\n"
          ],
          "name": "stdout"
        }
      ]
    },
    {
      "cell_type": "code",
      "metadata": {
        "id": "7MMwYn04gzpA",
        "colab_type": "code",
        "colab": {
          "base_uri": "https://localhost:8080/",
          "height": 219
        },
        "outputId": "07d6d6e1-f619-4658-9f5d-02997ffe8769"
      },
      "source": [
        "a = torch.randn(4, 4)\n",
        "print(a)\n",
        "print(torch.max(a))\n",
        "print(torch.max(a,0))\n",
        "print(torch.max(a,1))"
      ],
      "execution_count": 8,
      "outputs": [
        {
          "output_type": "stream",
          "text": [
            "tensor([[ 1.0740,  0.6390,  0.1764,  0.3377],\n",
            "        [ 0.7792,  1.1271, -0.1719, -0.0176],\n",
            "        [-0.4608, -0.1294, -0.6571,  1.1918],\n",
            "        [ 1.6136,  1.3391,  0.2827, -0.5574]])\n",
            "tensor(1.6136)\n",
            "torch.return_types.max(\n",
            "values=tensor([1.6136, 1.3391, 0.2827, 1.1918]),\n",
            "indices=tensor([3, 3, 3, 2]))\n",
            "torch.return_types.max(\n",
            "values=tensor([1.0740, 1.1271, 1.1918, 1.6136]),\n",
            "indices=tensor([0, 1, 3, 0]))\n"
          ],
          "name": "stdout"
        }
      ]
    },
    {
      "cell_type": "code",
      "metadata": {
        "id": "3MG8fMggt-tj",
        "colab_type": "code",
        "colab": {}
      },
      "source": [
        "class Neural_Network(nn.Module):\n",
        "    def __init__(self, ):\n",
        "        super(Neural_Network, self).__init__()\n",
        "        # parameters\n",
        "        # TODO: parameters can be parameterized instead of declaring them here\n",
        "        self.inputSize = 2\n",
        "        self.outputSize = 1\n",
        "        self.hiddenSize = 3\n",
        "        \n",
        "        # weights\n",
        "        self.W1 = torch.randn(self.inputSize, self.hiddenSize) # 2 X 3 tensor\n",
        "        self.W2 = torch.randn(self.hiddenSize, self.outputSize) # 3 X 1 tensor\n",
        "        \n",
        "    def forward(self, X):\n",
        "        print(\"In forward\")\n",
        "        self.z = torch.matmul(X, self.W1) # 3 X 3 \".dot\" does not broadcast in PyTorch\n",
        "        print(self.z)\n",
        "        self.z2 = self.sigmoid(self.z) # activation function\n",
        "        print(\"Output of hidden layer --\")\n",
        "        print(self.z2)\n",
        "        self.z3 = torch.matmul(self.z2, self.W2)\n",
        "        print(self.z3)\n",
        "        o = self.sigmoid(self.z3) # final activation function\n",
        "        print(\"the output is-\")\n",
        "        print(o)\n",
        "        return o\n",
        "        \n",
        "    def sigmoid(self, s):\n",
        "        return 1 / (1 + torch.exp(-s))\n",
        "    \n",
        "    def sigmoidPrime(self, s):\n",
        "        # derivative of sigmoid\n",
        "        return s * (1 - s)\n",
        "    \n",
        "    def backward(self, X, y, o):\n",
        "        self.o_error = y - o # error in output\n",
        "        self.o_delta = self.o_error * self.sigmoidPrime(o) # derivative of sig to error\n",
        "        self.z2_error = torch.matmul(self.o_delta, torch.t(self.W2))\n",
        "        self.z2_delta = self.z2_error * self.sigmoidPrime(self.z2)\n",
        "        self.W1 += torch.matmul(torch.t(X), self.z2_delta)\n",
        "        self.W2 += torch.matmul(torch.t(self.z2), self.o_delta)\n",
        "        \n",
        "    def train(self, X, y):\n",
        "        # forward + backward pass for training\n",
        "        o = self.forward(X)\n",
        "        self.backward(X, y, o)\n",
        "        \n",
        "    def saveWeights(self, model):\n",
        "        # we will use the PyTorch internal storage functions\n",
        "        torch.save(model, \"NN\")\n",
        "        # you can reload model with all the weights and so forth with:\n",
        "        # torch.load(\"NN\")\n",
        "        \n",
        "    def predict(self):\n",
        "        print (\"Predicted data based on trained weights: \")\n",
        "        print (\"Input (scaled): \\n\" + str(xPredicted))\n",
        "        print (\"Output: \\n\" + str(self.forward(xPredicted)))"
      ],
      "execution_count": 9,
      "outputs": []
    },
    {
      "cell_type": "code",
      "metadata": {
        "id": "jBGdBYckA3Pd",
        "colab_type": "code",
        "colab": {
          "base_uri": "https://localhost:8080/",
          "height": 164
        },
        "outputId": "0dc668a5-d3c6-44c2-8777-1b21f7965c82"
      },
      "source": [
        "nn1 = Neural_Network()\n",
        "nn1.forward(torch.ones([1,2]))"
      ],
      "execution_count": 10,
      "outputs": [
        {
          "output_type": "stream",
          "text": [
            "In forward\n",
            "tensor([[-1.2166, -2.2231, -1.2381]])\n",
            "Output of hidden layer --\n",
            "tensor([[0.2285, 0.0977, 0.2248]])\n",
            "tensor([[-0.2164]])\n",
            "the output is-\n",
            "tensor([[0.4461]])\n"
          ],
          "name": "stdout"
        },
        {
          "output_type": "execute_result",
          "data": {
            "text/plain": [
              "tensor([[0.4461]])"
            ]
          },
          "metadata": {
            "tags": []
          },
          "execution_count": 10
        }
      ]
    },
    {
      "cell_type": "code",
      "metadata": {
        "id": "8vphxgoMBFLC",
        "colab_type": "code",
        "colab": {
          "base_uri": "https://localhost:8080/",
          "height": 54
        },
        "outputId": "cbfdaadc-50f1-4455-8aee-4b8dd69e5b01"
      },
      "source": [
        "print(nn1.W1)"
      ],
      "execution_count": 11,
      "outputs": [
        {
          "output_type": "stream",
          "text": [
            "tensor([[-0.3854, -0.3652, -1.0576],\n",
            "        [-0.8312, -1.8579, -0.1805]])\n"
          ],
          "name": "stdout"
        }
      ]
    },
    {
      "cell_type": "code",
      "metadata": {
        "id": "63nrIwATBNgR",
        "colab_type": "code",
        "colab": {
          "base_uri": "https://localhost:8080/",
          "height": 54
        },
        "outputId": "188f7797-322b-4da4-e76b-d160cb942c92"
      },
      "source": [
        "nn1.sigmoid(torch.zeros([2,1]))"
      ],
      "execution_count": 12,
      "outputs": [
        {
          "output_type": "execute_result",
          "data": {
            "text/plain": [
              "tensor([[0.5000],\n",
              "        [0.5000]])"
            ]
          },
          "metadata": {
            "tags": []
          },
          "execution_count": 12
        }
      ]
    },
    {
      "cell_type": "code",
      "metadata": {
        "id": "sT_YZvQaBTah",
        "colab_type": "code",
        "colab": {
          "base_uri": "https://localhost:8080/",
          "height": 348
        },
        "outputId": "36d5e239-f250-4c36-d9d8-6466dd15efe5"
      },
      "source": [
        "nn1(X)"
      ],
      "execution_count": 13,
      "outputs": [
        {
          "output_type": "stream",
          "text": [
            "In forward\n",
            "tensor([[-1.0881, -2.1014, -0.8856],\n",
            "        [-0.5902, -1.1539, -0.4528],\n",
            "        [-0.9395, -1.6038, -1.1779]])\n",
            "Output of hidden layer --\n",
            "tensor([[0.2520, 0.1090, 0.2920],\n",
            "        [0.3566, 0.2398, 0.3887],\n",
            "        [0.2810, 0.1675, 0.2354]])\n",
            "tensor([[-0.2491],\n",
            "        [-0.3662],\n",
            "        [-0.2673]])\n",
            "the output is-\n",
            "tensor([[0.4380],\n",
            "        [0.4095],\n",
            "        [0.4336]])\n"
          ],
          "name": "stdout"
        },
        {
          "output_type": "execute_result",
          "data": {
            "text/plain": [
              "tensor([[0.4380],\n",
              "        [0.4095],\n",
              "        [0.4336]])"
            ]
          },
          "metadata": {
            "tags": []
          },
          "execution_count": 13
        }
      ]
    },
    {
      "cell_type": "code",
      "metadata": {
        "id": "NLFeBPVYtDcn",
        "colab_type": "code",
        "colab": {
          "base_uri": "https://localhost:8080/",
          "height": 293
        },
        "outputId": "4522599a-a157-4db3-a3f1-51cbd081943f"
      },
      "source": [
        "nn1.train(X,-1)"
      ],
      "execution_count": 14,
      "outputs": [
        {
          "output_type": "stream",
          "text": [
            "In forward\n",
            "tensor([[-1.0881, -2.1014, -0.8856],\n",
            "        [-0.5902, -1.1539, -0.4528],\n",
            "        [-0.9395, -1.6038, -1.1779]])\n",
            "Output of hidden layer --\n",
            "tensor([[0.2520, 0.1090, 0.2920],\n",
            "        [0.3566, 0.2398, 0.3887],\n",
            "        [0.2810, 0.1675, 0.2354]])\n",
            "tensor([[-0.2491],\n",
            "        [-0.3662],\n",
            "        [-0.2673]])\n",
            "the output is-\n",
            "tensor([[0.4380],\n",
            "        [0.4095],\n",
            "        [0.4336]])\n"
          ],
          "name": "stdout"
        }
      ]
    },
    {
      "cell_type": "code",
      "metadata": {
        "id": "MiGY4555kHsG",
        "colab_type": "code",
        "colab": {
          "base_uri": "https://localhost:8080/",
          "height": 237
        },
        "outputId": "bd63d937-f8bc-41a1-bb4d-da3017f1aed0"
      },
      "source": [
        "nn1.predict()"
      ],
      "execution_count": 15,
      "outputs": [
        {
          "output_type": "stream",
          "text": [
            "Predicted data based on trained weights: \n",
            "Input (scaled): \n",
            "tensor([0.5000, 1.0000])\n",
            "In forward\n",
            "tensor([-0.8816, -2.0070, -0.6561])\n",
            "Output of hidden layer --\n",
            "tensor([0.2928, 0.1185, 0.3416])\n",
            "tensor([-0.5090])\n",
            "the output is-\n",
            "tensor([0.3754])\n",
            "Output: \n",
            "tensor([0.3754])\n"
          ],
          "name": "stdout"
        }
      ]
    },
    {
      "cell_type": "code",
      "metadata": {
        "id": "_zlgY2PUlLJU",
        "colab_type": "code",
        "colab": {}
      },
      "source": [
        ""
      ],
      "execution_count": 15,
      "outputs": []
    }
  ]
}