{
  "nbformat": 4,
  "nbformat_minor": 0,
  "metadata": {
    "colab": {
      "name": "test001.ipynb",
      "provenance": [],
      "collapsed_sections": [],
      "authorship_tag": "ABX9TyMvPr0DfWIFngm84R0TC/3b",
      "include_colab_link": true
    },
    "kernelspec": {
      "name": "python3",
      "display_name": "Python 3"
    }
  },
  "cells": [
    {
      "cell_type": "markdown",
      "metadata": {
        "id": "view-in-github",
        "colab_type": "text"
      },
      "source": [
        "<a href=\"https://colab.research.google.com/github/navkapil/googlecolab/blob/master/test001.ipynb\" target=\"_parent\"><img src=\"https://colab.research.google.com/assets/colab-badge.svg\" alt=\"Open In Colab\"/></a>"
      ]
    },
    {
      "cell_type": "code",
      "metadata": {
        "id": "JCfJhec9b3Rz",
        "colab_type": "code",
        "colab": {}
      },
      "source": [
        "import torch\n",
        "import torch.nn as nn"
      ],
      "execution_count": 1,
      "outputs": []
    },
    {
      "cell_type": "code",
      "metadata": {
        "id": "Wsa46Hrdb7mE",
        "colab_type": "code",
        "colab": {}
      },
      "source": [
        "x = torch.rand([5,3])"
      ],
      "execution_count": 2,
      "outputs": []
    },
    {
      "cell_type": "code",
      "metadata": {
        "id": "7ENzA5IYcMJg",
        "colab_type": "code",
        "colab": {
          "base_uri": "https://localhost:8080/",
          "height": 109
        },
        "outputId": "11d749ae-3961-4767-8b16-f273d83a1464"
      },
      "source": [
        "print(x)"
      ],
      "execution_count": 3,
      "outputs": [
        {
          "output_type": "stream",
          "text": [
            "tensor([[0.1818, 0.9768, 0.4555],\n",
            "        [0.6309, 0.7733, 0.2909],\n",
            "        [0.0496, 0.9206, 0.1040],\n",
            "        [0.7252, 0.5955, 0.9787],\n",
            "        [0.7891, 0.9705, 0.8345]])\n"
          ],
          "name": "stdout"
        }
      ]
    },
    {
      "cell_type": "code",
      "metadata": {
        "id": "u8nC5_RKcN6Y",
        "colab_type": "code",
        "colab": {}
      },
      "source": [
        "X = torch.tensor(([2, 9], [1, 5], [3, 6]), dtype=torch.float) # 3 X 2 tensor\n",
        "y = torch.tensor(([[92]], [[100]], [[89]]), dtype=torch.float) # 3 X 1 tensor\n",
        "xPredicted = torch.tensor(([4, 8]), dtype=torch.float) # 1 X 2 tensor"
      ],
      "execution_count": 18,
      "outputs": []
    },
    {
      "cell_type": "code",
      "metadata": {
        "id": "15pt7L7ZdWpJ",
        "colab_type": "code",
        "colab": {
          "base_uri": "https://localhost:8080/",
          "height": 35
        },
        "outputId": "09a83d72-201f-4f7a-9075-459e3b713153"
      },
      "source": [
        "print(xPredicted.size())"
      ],
      "execution_count": 19,
      "outputs": [
        {
          "output_type": "stream",
          "text": [
            "torch.Size([2])\n"
          ],
          "name": "stdout"
        }
      ]
    },
    {
      "cell_type": "code",
      "metadata": {
        "id": "T5grHuivdb9g",
        "colab_type": "code",
        "colab": {
          "base_uri": "https://localhost:8080/",
          "height": 201
        },
        "outputId": "870eed65-ce7c-492a-8188-916d95e80231"
      },
      "source": [
        "# scale units\n",
        "X_max, _ = torch.max(X, 0)\n",
        "print(X_max)\n",
        "print(_)\n",
        "xPredicted_max, _ = torch.max(xPredicted, 0)\n",
        "\n",
        "print(xPredicted_max)\n",
        "print(_)\n",
        "X = torch.div(X, X_max)\n",
        "xPredicted = torch.div(xPredicted, xPredicted_max)\n",
        "print(xPredicted)\n",
        "y = y / 100  # max test score is 100\n",
        "print(y)\n"
      ],
      "execution_count": 25,
      "outputs": [
        {
          "output_type": "stream",
          "text": [
            "tensor([1., 1.])\n",
            "tensor([2, 0])\n",
            "tensor(1.)\n",
            "tensor(1)\n",
            "tensor([0.5000, 1.0000])\n",
            "tensor([[[0.9200]],\n",
            "\n",
            "        [[1.0000]],\n",
            "\n",
            "        [[0.8900]]])\n"
          ],
          "name": "stdout"
        }
      ]
    },
    {
      "cell_type": "code",
      "metadata": {
        "id": "7lgTxuZMgvfI",
        "colab_type": "code",
        "colab": {
          "base_uri": "https://localhost:8080/",
          "height": 35
        },
        "outputId": "dd84c528-a385-4ab3-aef2-740ea93f9fe0"
      },
      "source": [
        "print(_)"
      ],
      "execution_count": 26,
      "outputs": [
        {
          "output_type": "stream",
          "text": [
            "tensor(1)\n"
          ],
          "name": "stdout"
        }
      ]
    },
    {
      "cell_type": "code",
      "metadata": {
        "id": "7MMwYn04gzpA",
        "colab_type": "code",
        "colab": {
          "base_uri": "https://localhost:8080/",
          "height": 219
        },
        "outputId": "8f50345e-24bb-4f90-caae-97269110eea1"
      },
      "source": [
        "a = torch.randn(4, 4)\n",
        "print(a)\n",
        "print(torch.max(a))\n",
        "print(torch.max(a,0))\n",
        "print(torch.max(a,1))"
      ],
      "execution_count": 28,
      "outputs": [
        {
          "output_type": "stream",
          "text": [
            "tensor([[ 0.5378,  0.6911, -0.3741, -1.5628],\n",
            "        [-1.0705, -0.8962, -0.8219, -0.3602],\n",
            "        [ 1.3557, -0.9273,  0.5753, -1.1687],\n",
            "        [ 0.5541,  0.4619, -1.5173,  0.1382]])\n",
            "tensor(1.3557)\n",
            "torch.return_types.max(\n",
            "values=tensor([1.3557, 0.6911, 0.5753, 0.1382]),\n",
            "indices=tensor([2, 0, 2, 3]))\n",
            "torch.return_types.max(\n",
            "values=tensor([ 0.6911, -0.3602,  1.3557,  0.5541]),\n",
            "indices=tensor([1, 3, 0, 0]))\n"
          ],
          "name": "stdout"
        }
      ]
    },
    {
      "cell_type": "code",
      "metadata": {
        "id": "3MG8fMggt-tj",
        "colab_type": "code",
        "colab": {}
      },
      "source": [
        ""
      ],
      "execution_count": null,
      "outputs": []
    }
  ]
}