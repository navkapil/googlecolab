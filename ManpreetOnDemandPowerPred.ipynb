{
  "nbformat": 4,
  "nbformat_minor": 0,
  "metadata": {
    "language_info": {
      "codemirror_mode": {
        "name": "ipython",
        "version": 3
      },
      "file_extension": ".py",
      "mimetype": "text/x-python",
      "name": "python",
      "nbconvert_exporter": "python",
      "pygments_lexer": "ipython3",
      "version": "3.7.6-final"
    },
    "orig_nbformat": 2,
    "kernelspec": {
      "name": "Python 3.7.6 64-bit ('base': conda)",
      "display_name": "Python 3.7.6 64-bit ('base': conda)",
      "metadata": {
        "interpreter": {
          "hash": "cd29bce2ce612ad91a85626f3bceb0c79f1d3a2c08beaebc04db882ee3b6a7d0"
        }
      }
    },
    "colab": {
      "name": "ManpreetOnDemandPowerPred.ipynb",
      "provenance": [],
      "collapsed_sections": [],
      "include_colab_link": true
    }
  },
  "cells": [
    {
      "cell_type": "markdown",
      "metadata": {
        "id": "view-in-github",
        "colab_type": "text"
      },
      "source": [
        "<a href=\"https://colab.research.google.com/github/navkapil/googlecolab/blob/master/ManpreetOnDemandPowerPred.ipynb\" target=\"_parent\"><img src=\"https://colab.research.google.com/assets/colab-badge.svg\" alt=\"Open In Colab\"/></a>"
      ]
    },
    {
      "cell_type": "code",
      "metadata": {
        "id": "uxQZySTvq9_L"
      },
      "source": [
        "import numpy as np \n",
        "import pandas as pd \n",
        "import seaborn as sns\n",
        "import matplotlib.pyplot as plt\n",
        "import xgboost as xgb\n",
        "import tensorflow as tf\n",
        "from xgboost import plot_importance, plot_tree\n",
        "from sklearn.metrics import mean_squared_error, mean_absolute_error\n",
        "# plotly\n",
        "#!pip install chart_studio\n",
        "import chart_studio.plotly.plotly as py\n",
        "from plotly.offline import init_notebook_mode, iplot\n",
        "#init_notebook_mode(connected=True)\n",
        "import plotly.graph_objs as go\n",
        "# Standard ML Models for comparison\n",
        "from sklearn.linear_model import LinearRegression\n",
        "from sklearn.linear_model import ElasticNet\n",
        "from sklearn.ensemble import RandomForestRegressor\n",
        "from sklearn.ensemble import ExtraTreesRegressor\n",
        "from sklearn.ensemble import GradientBoostingRegressor\n",
        "from sklearn.svm import SVR\n",
        "from sklearn.ensemble import AdaBoostRegressor\n",
        "from sklearn.tree import DecisionTreeRegressor\n",
        "\n",
        "# Splitting data into training/testing\n",
        "from sklearn.model_selection import train_test_split\n",
        "from sklearn.preprocessing import MinMaxScaler\n",
        "\n",
        "# Metrics\n",
        "from sklearn.metrics import mean_squared_error, mean_absolute_error, median_absolute_error, r2_score\n",
        "\n",
        "# Distributions\n",
        "import scipy"
      ],
      "execution_count": 1,
      "outputs": []
    },
    {
      "cell_type": "code",
      "metadata": {
        "id": "wEsqTxE4q9_U"
      },
      "source": [
        "df = pd.read_csv('https://raw.githubusercontent.com/navkapil/googlecolab/master/pwrpred.csv', index_col=[0], parse_dates=[0]) #i have uploaded the downsized file to 25MB but you can give the url form drive\n",
        "# check https://towardsdatascience.com/3-ways-to-load-csv-files-into-colab-7c14fcbdcb92"
      ],
      "execution_count": 2,
      "outputs": []
    },
    {
      "cell_type": "code",
      "metadata": {
        "id": "8WaGW9Poq9_b",
        "outputId": "0cf66556-81cb-48a2-9415-30eb2b645215",
        "colab": {
          "base_uri": "https://localhost:8080/",
          "height": 238
        }
      },
      "source": [
        "df.head()"
      ],
      "execution_count": 3,
      "outputs": [
        {
          "output_type": "execute_result",
          "data": {
            "text/html": [
              "<div>\n",
              "<style scoped>\n",
              "    .dataframe tbody tr th:only-of-type {\n",
              "        vertical-align: middle;\n",
              "    }\n",
              "\n",
              "    .dataframe tbody tr th {\n",
              "        vertical-align: top;\n",
              "    }\n",
              "\n",
              "    .dataframe thead th {\n",
              "        text-align: right;\n",
              "    }\n",
              "</style>\n",
              "<table border=\"1\" class=\"dataframe\">\n",
              "  <thead>\n",
              "    <tr style=\"text-align: right;\">\n",
              "      <th></th>\n",
              "      <th>Global_active_power</th>\n",
              "      <th>Global_reactive_power</th>\n",
              "      <th>Voltage</th>\n",
              "      <th>Global_intensity</th>\n",
              "      <th>Sub_metering_1</th>\n",
              "      <th>Sub_metering_2</th>\n",
              "      <th>Sub_metering_3</th>\n",
              "      <th>Sub_metering_4</th>\n",
              "    </tr>\n",
              "    <tr>\n",
              "      <th>datetime</th>\n",
              "      <th></th>\n",
              "      <th></th>\n",
              "      <th></th>\n",
              "      <th></th>\n",
              "      <th></th>\n",
              "      <th></th>\n",
              "      <th></th>\n",
              "      <th></th>\n",
              "    </tr>\n",
              "  </thead>\n",
              "  <tbody>\n",
              "    <tr>\n",
              "      <th>2006-12-16 17:24:00</th>\n",
              "      <td>4.216</td>\n",
              "      <td>0.418</td>\n",
              "      <td>234.84</td>\n",
              "      <td>18.4</td>\n",
              "      <td>0.0</td>\n",
              "      <td>1.0</td>\n",
              "      <td>17.0</td>\n",
              "      <td>52.266670</td>\n",
              "    </tr>\n",
              "    <tr>\n",
              "      <th>2006-12-16 17:25:00</th>\n",
              "      <td>5.360</td>\n",
              "      <td>0.436</td>\n",
              "      <td>233.63</td>\n",
              "      <td>23.0</td>\n",
              "      <td>0.0</td>\n",
              "      <td>1.0</td>\n",
              "      <td>16.0</td>\n",
              "      <td>72.333336</td>\n",
              "    </tr>\n",
              "    <tr>\n",
              "      <th>2006-12-16 17:26:00</th>\n",
              "      <td>5.374</td>\n",
              "      <td>0.498</td>\n",
              "      <td>233.29</td>\n",
              "      <td>23.0</td>\n",
              "      <td>0.0</td>\n",
              "      <td>2.0</td>\n",
              "      <td>17.0</td>\n",
              "      <td>70.566666</td>\n",
              "    </tr>\n",
              "    <tr>\n",
              "      <th>2006-12-16 17:27:00</th>\n",
              "      <td>5.388</td>\n",
              "      <td>0.502</td>\n",
              "      <td>233.74</td>\n",
              "      <td>23.0</td>\n",
              "      <td>0.0</td>\n",
              "      <td>1.0</td>\n",
              "      <td>17.0</td>\n",
              "      <td>71.800000</td>\n",
              "    </tr>\n",
              "    <tr>\n",
              "      <th>2006-12-16 17:28:00</th>\n",
              "      <td>3.666</td>\n",
              "      <td>0.528</td>\n",
              "      <td>235.68</td>\n",
              "      <td>15.8</td>\n",
              "      <td>0.0</td>\n",
              "      <td>1.0</td>\n",
              "      <td>17.0</td>\n",
              "      <td>43.100000</td>\n",
              "    </tr>\n",
              "  </tbody>\n",
              "</table>\n",
              "</div>"
            ],
            "text/plain": [
              "                     Global_active_power  ...  Sub_metering_4\n",
              "datetime                                  ...                \n",
              "2006-12-16 17:24:00                4.216  ...       52.266670\n",
              "2006-12-16 17:25:00                5.360  ...       72.333336\n",
              "2006-12-16 17:26:00                5.374  ...       70.566666\n",
              "2006-12-16 17:27:00                5.388  ...       71.800000\n",
              "2006-12-16 17:28:00                3.666  ...       43.100000\n",
              "\n",
              "[5 rows x 8 columns]"
            ]
          },
          "metadata": {
            "tags": []
          },
          "execution_count": 3
        }
      ]
    },
    {
      "cell_type": "code",
      "metadata": {
        "id": "-ssmNqiqq9_h"
      },
      "source": [
        "df = df.drop(['Global_reactive_power','Voltage','Global_intensity','Sub_metering_1','Sub_metering_2','Sub_metering_3','Sub_metering_4'],axis=1) #what this does? and Why --kapil"
      ],
      "execution_count": 4,
      "outputs": []
    },
    {
      "cell_type": "code",
      "metadata": {
        "id": "c2F-sKRlq9_l",
        "outputId": "55ece171-ba23-42e2-fc68-ea2431d69d50",
        "colab": {
          "base_uri": "https://localhost:8080/",
          "height": 526
        }
      },
      "source": [
        "df.plot(figsize=(15,8))"
      ],
      "execution_count": 5,
      "outputs": [
        {
          "output_type": "execute_result",
          "data": {
            "text/plain": [
              "<matplotlib.axes._subplots.AxesSubplot at 0x7f1f7a906d68>"
            ]
          },
          "metadata": {
            "tags": []
          },
          "execution_count": 5
        },
        {
          "output_type": "display_data",
          "data": {
            "image/png": "[encoded data removed]",
            "text/plain": [
              "<Figure size 1080x576 with 1 Axes>"
            ]
          },
          "metadata": {
            "tags": [],
            "needs_background": "light"
          }
        }
      ]
    },
    {
      "cell_type": "code",
      "metadata": {
        "id": "5xxO5q_Eq9_q"
      },
      "source": [
        "# splitting the data into training and testing data (90% and 10%)\n",
        "# we mention the random state to achieve the same split everytime we run the code\n",
        "X_train, X_test, y_train, y_test = train_test_split(df, df['Global_active_power'], test_size = 0.10, random_state=42) #what columns keep target value? --Kapil"
      ],
      "execution_count": 6,
      "outputs": []
    },
    {
      "cell_type": "code",
      "metadata": {
        "id": "rQ1FtKCsKeNt",
        "outputId": "c5bea876-dc3a-4d54-b122-1b49f3468d9d",
        "colab": {
          "base_uri": "https://localhost:8080/",
          "height": 531
        }
      },
      "source": [
        "print(y_train)#whats the difference between X_train and y_train?? --Kapil\n",
        "print(X_train)"
      ],
      "execution_count": 9,
      "outputs": [
        {
          "output_type": "stream",
          "text": [
            "datetime\n",
            "2007-08-10 03:54:00    0.102\n",
            "2007-03-29 02:50:00    0.326\n",
            "2007-07-10 15:47:00    1.276\n",
            "2007-03-23 10:12:00    1.406\n",
            "2007-09-12 02:59:00    0.160\n",
            "                       ...  \n",
            "2007-06-14 17:02:00    0.306\n",
            "2007-08-27 18:42:00    0.340\n",
            "2007-03-18 08:16:00    2.116\n",
            "2007-03-28 17:11:00    0.552\n",
            "2007-03-11 10:02:00    2.562\n",
            "Name: Global_active_power, Length: 358606, dtype: float64\n",
            "                     Global_active_power\n",
            "datetime                                \n",
            "2007-08-10 03:54:00                0.102\n",
            "2007-03-29 02:50:00                0.326\n",
            "2007-07-10 15:47:00                1.276\n",
            "2007-03-23 10:12:00                1.406\n",
            "2007-09-12 02:59:00                0.160\n",
            "...                                  ...\n",
            "2007-06-14 17:02:00                0.306\n",
            "2007-08-27 18:42:00                0.340\n",
            "2007-03-18 08:16:00                2.116\n",
            "2007-03-28 17:11:00                0.552\n",
            "2007-03-11 10:02:00                2.562\n",
            "\n",
            "[358606 rows x 1 columns]\n"
          ],
          "name": "stdout"
        }
      ]
    },
    {
      "cell_type": "code",
      "metadata": {
        "tags": [],
        "id": "ncK8foB9q9_u",
        "outputId": "fe658b9d-1aa9-4316-b605-670ceb779ffd"
      },
      "source": [
        "from sklearn import preprocessing\n",
        "# Normalizing Dataset\n",
        "std_scale = preprocessing.StandardScaler().fit(X_train)\n",
        "x_train_norm = std_scale.transform(X_train)\n",
        "\n",
        "#Converting numpy array to dataframe\n",
        "training_norm_col = pd.DataFrame(x_train_norm,index=X_train.index, columns=X_train.columns) \n",
        "X_train.update(training_norm_col)\n",
        "print (X_train.head())"
      ],
      "execution_count": null,
      "outputs": [
        {
          "output_type": "stream",
          "text": [
            "                     Global_active_power\n",
            "datetime                                \n",
            "2007-10-24 17:06:00            -0.697185\n",
            "2008-05-17 08:49:00             0.344075\n",
            "2007-07-29 21:24:00            -0.867883\n",
            "2010-01-24 21:38:00             0.103200\n",
            "2010-03-05 15:59:00             0.683575\n"
          ],
          "name": "stdout"
        }
      ]
    },
    {
      "cell_type": "code",
      "metadata": {
        "id": "EmnPOGMcq9_z",
        "outputId": "c27f677d-07d1-4d6a-e268-c7ae460c2302"
      },
      "source": [
        "X_train #X_train has timestamp, why only these two columns are taken?--kapil"
      ],
      "execution_count": null,
      "outputs": [
        {
          "output_type": "execute_result",
          "data": {
            "text/plain": [
              "                     Global_active_power\n",
              "datetime                                \n",
              "2007-10-24 17:06:00            -0.697185\n",
              "2008-05-17 08:49:00             0.344075\n",
              "2007-07-29 21:24:00            -0.867883\n",
              "2010-01-24 21:38:00             0.103200\n",
              "2010-03-05 15:59:00             0.683575\n",
              "...                                  ...\n",
              "2007-06-14 17:02:00            -0.742704\n",
              "2009-08-24 22:58:00             2.557462\n",
              "2007-03-18 08:16:00             0.973762\n",
              "2008-03-26 19:19:00             0.875136\n",
              "2007-03-11 10:02:00             1.396714\n",
              "\n",
              "[1867733 rows x 1 columns]"
            ],
            "text/html": [
              "<div>\n",
              "<style scoped>\n",
              "    .dataframe tbody tr th:only-of-type {\n",
              "        vertical-align: middle;\n",
              "    }\n",
              "\n",
              "    .dataframe tbody tr th {\n",
              "        vertical-align: top;\n",
              "    }\n",
              "\n",
              "    .dataframe thead th {\n",
              "        text-align: right;\n",
              "    }\n",
              "</style>\n",
              "<table border=\"1\" class=\"dataframe\">\n",
              "  <thead>\n",
              "    <tr style=\"text-align: right;\">\n",
              "      <th></th>\n",
              "      <th>Global_active_power</th>\n",
              "    </tr>\n",
              "    <tr>\n",
              "      <th>datetime</th>\n",
              "      <th></th>\n",
              "    </tr>\n",
              "  </thead>\n",
              "  <tbody>\n",
              "    <tr>\n",
              "      <th>2007-10-24 17:06:00</th>\n",
              "      <td>-0.697185</td>\n",
              "    </tr>\n",
              "    <tr>\n",
              "      <th>2008-05-17 08:49:00</th>\n",
              "      <td>0.344075</td>\n",
              "    </tr>\n",
              "    <tr>\n",
              "      <th>2007-07-29 21:24:00</th>\n",
              "      <td>-0.867883</td>\n",
              "    </tr>\n",
              "    <tr>\n",
              "      <th>2010-01-24 21:38:00</th>\n",
              "      <td>0.103200</td>\n",
              "    </tr>\n",
              "    <tr>\n",
              "      <th>2010-03-05 15:59:00</th>\n",
              "      <td>0.683575</td>\n",
              "    </tr>\n",
              "    <tr>\n",
              "      <th>...</th>\n",
              "      <td>...</td>\n",
              "    </tr>\n",
              "    <tr>\n",
              "      <th>2007-06-14 17:02:00</th>\n",
              "      <td>-0.742704</td>\n",
              "    </tr>\n",
              "    <tr>\n",
              "      <th>2009-08-24 22:58:00</th>\n",
              "      <td>2.557462</td>\n",
              "    </tr>\n",
              "    <tr>\n",
              "      <th>2007-03-18 08:16:00</th>\n",
              "      <td>0.973762</td>\n",
              "    </tr>\n",
              "    <tr>\n",
              "      <th>2008-03-26 19:19:00</th>\n",
              "      <td>0.875136</td>\n",
              "    </tr>\n",
              "    <tr>\n",
              "      <th>2007-03-11 10:02:00</th>\n",
              "      <td>1.396714</td>\n",
              "    </tr>\n",
              "  </tbody>\n",
              "</table>\n",
              "<p>1867733 rows × 1 columns</p>\n",
              "</div>"
            ]
          },
          "metadata": {
            "tags": []
          },
          "execution_count": 22
        }
      ]
    },
    {
      "cell_type": "code",
      "metadata": {
        "tags": [],
        "id": "jBFLAH8Gq9_2",
        "outputId": "dcfb907c-1a6f-48a0-db3d-22a2933e9203"
      },
      "source": [
        "# Normalizing Testing Dataset\n",
        "x_test_norm = std_scale.transform(X_test)\n",
        "testing_norm_col = pd.DataFrame(x_test_norm, index=X_test.index, columns=X_test.columns) \n",
        "X_test.update(testing_norm_col)\n",
        "print (X_test.head())"
      ],
      "execution_count": null,
      "outputs": [
        {
          "output_type": "stream",
          "text": [
            "                     Global_active_power\n",
            "datetime                                \n",
            "2010-07-07 18:10:00            -0.790121\n",
            "2007-05-14 06:50:00            -0.590973\n",
            "2007-09-26 18:10:00            -0.314062\n",
            "2007-06-19 07:30:00             0.190446\n",
            "2010-05-10 04:43:00            -0.627009\n"
          ],
          "name": "stdout"
        }
      ]
    },
    {
      "cell_type": "code",
      "metadata": {
        "id": "yOwriDCxq9_5",
        "outputId": "44130ce4-5b1c-4e47-ad5d-5465806e6776"
      },
      "source": [
        "X_test"
      ],
      "execution_count": null,
      "outputs": [
        {
          "output_type": "execute_result",
          "data": {
            "text/plain": [
              "                     Global_active_power\n",
              "datetime                                \n",
              "2010-07-07 18:10:00            -0.790121\n",
              "2007-05-14 06:50:00            -0.590973\n",
              "2007-09-26 18:10:00            -0.314062\n",
              "2007-06-19 07:30:00             0.190446\n",
              "2010-05-10 04:43:00            -0.627009\n",
              "...                                  ...\n",
              "2007-06-25 13:28:00            -0.835640\n",
              "2008-04-15 19:30:00            -0.776844\n",
              "2009-05-18 14:29:00            -0.636492\n",
              "2009-12-19 07:47:00             2.255895\n",
              "2008-09-17 12:57:00            -0.418378\n",
              "\n",
              "[207526 rows x 1 columns]"
            ],
            "text/html": [
              "<div>\n",
              "<style scoped>\n",
              "    .dataframe tbody tr th:only-of-type {\n",
              "        vertical-align: middle;\n",
              "    }\n",
              "\n",
              "    .dataframe tbody tr th {\n",
              "        vertical-align: top;\n",
              "    }\n",
              "\n",
              "    .dataframe thead th {\n",
              "        text-align: right;\n",
              "    }\n",
              "</style>\n",
              "<table border=\"1\" class=\"dataframe\">\n",
              "  <thead>\n",
              "    <tr style=\"text-align: right;\">\n",
              "      <th></th>\n",
              "      <th>Global_active_power</th>\n",
              "    </tr>\n",
              "    <tr>\n",
              "      <th>datetime</th>\n",
              "      <th></th>\n",
              "    </tr>\n",
              "  </thead>\n",
              "  <tbody>\n",
              "    <tr>\n",
              "      <th>2010-07-07 18:10:00</th>\n",
              "      <td>-0.790121</td>\n",
              "    </tr>\n",
              "    <tr>\n",
              "      <th>2007-05-14 06:50:00</th>\n",
              "      <td>-0.590973</td>\n",
              "    </tr>\n",
              "    <tr>\n",
              "      <th>2007-09-26 18:10:00</th>\n",
              "      <td>-0.314062</td>\n",
              "    </tr>\n",
              "    <tr>\n",
              "      <th>2007-06-19 07:30:00</th>\n",
              "      <td>0.190446</td>\n",
              "    </tr>\n",
              "    <tr>\n",
              "      <th>2010-05-10 04:43:00</th>\n",
              "      <td>-0.627009</td>\n",
              "    </tr>\n",
              "    <tr>\n",
              "      <th>...</th>\n",
              "      <td>...</td>\n",
              "    </tr>\n",
              "    <tr>\n",
              "      <th>2007-06-25 13:28:00</th>\n",
              "      <td>-0.835640</td>\n",
              "    </tr>\n",
              "    <tr>\n",
              "      <th>2008-04-15 19:30:00</th>\n",
              "      <td>-0.776844</td>\n",
              "    </tr>\n",
              "    <tr>\n",
              "      <th>2009-05-18 14:29:00</th>\n",
              "      <td>-0.636492</td>\n",
              "    </tr>\n",
              "    <tr>\n",
              "      <th>2009-12-19 07:47:00</th>\n",
              "      <td>2.255895</td>\n",
              "    </tr>\n",
              "    <tr>\n",
              "      <th>2008-09-17 12:57:00</th>\n",
              "      <td>-0.418378</td>\n",
              "    </tr>\n",
              "  </tbody>\n",
              "</table>\n",
              "<p>207526 rows × 1 columns</p>\n",
              "</div>"
            ]
          },
          "metadata": {
            "tags": []
          },
          "execution_count": 24
        }
      ]
    },
    {
      "cell_type": "code",
      "metadata": {
        "id": "90_2DSOzq9_-"
      },
      "source": [
        "# Calculate mae and rmse\n",
        "def evaluate_predictions(predictions, true):\n",
        "    mae = np.mean(abs(predictions - true))\n",
        "    rmse = np.sqrt(np.mean((predictions - true) ** 2))\n",
        "\n",
        "    return mae, rmse"
      ],
      "execution_count": null,
      "outputs": []
    },
    {
      "cell_type": "code",
      "metadata": {
        "id": "y3QGSuPiq-AC"
      },
      "source": [
        "# find the median\n",
        "median_pred = X_train['Global_active_power'].median()\n",
        "\n",
        "# create a list with all values as median\n",
        "median_preds = [median_pred for _ in range(len(X_test))]\n",
        "\n",
        "# store the true G3 values for passing into the function\n",
        "true = X_test['Global_active_power'] #isn't true a keyword in python? --Kapil"
      ],
      "execution_count": null,
      "outputs": []
    },
    {
      "cell_type": "code",
      "metadata": {
        "tags": [],
        "id": "elu8D7YUq-AG",
        "outputId": "4bceb4ce-b40d-4810-a2f0-484912d886e3"
      },
      "source": [
        "# Display the naive baseline metrics\n",
        "mb_mae, mb_rmse = evaluate_predictions(median_preds, true) #What is the need of this baseline? --Kapil\n",
        "print('Median Baseline  MAE: {:.4f}'.format(mb_mae))\n",
        "print('Median Baseline RMSE: {:.4f}'.format(mb_rmse))"
      ],
      "execution_count": null,
      "outputs": [
        {
          "output_type": "stream",
          "text": [
            "Median Baseline  MAE: 0.7362\n",
            "Median Baseline RMSE: 1.1041\n"
          ],
          "name": "stdout"
        }
      ]
    },
    {
      "cell_type": "code",
      "metadata": {
        "tags": [],
        "id": "Hm3VkbDiq-AK",
        "outputId": "0a54c612-b818-4832-df65-8d139f702337"
      },
      "source": [
        "#linear Regression\n",
        "\n",
        "regressor = LinearRegression().fit(X_train, y_train)\n",
        "\n",
        "y_train_pred=regressor.predict(X_test)\n",
        "print(r2_score(y_train_pred, y_test))\n",
        "print(mean_squared_error(y_train_pred, y_test))"
      ],
      "execution_count": null,
      "outputs": [
        {
          "output_type": "stream",
          "text": [
            "1.0\n",
            "1.6031130085546705e-28\n"
          ],
          "name": "stdout"
        }
      ]
    },
    {
      "cell_type": "code",
      "metadata": {
        "tags": [],
        "id": "zVK1EsuZq-AN",
        "outputId": "e6bf85af-e9c6-40a1-c090-6bafd338d576"
      },
      "source": [
        "#ElasticNet Regression\n",
        "regressor = ElasticNet(alpha=0.1, l1_ratio=1.0).fit(X_train, y_train)\n",
        "from sklearn.metrics import r2_score\n",
        "y_train_pred=regressor.predict(X_test)\n",
        "print(r2_score(y_train_pred, y_test))\n",
        "print(mean_squared_error(y_train_pred, y_test))"
      ],
      "execution_count": null,
      "outputs": [
        {
          "output_type": "stream",
          "text": [
            "0.9890236621943387\n",
            "0.010035223863217632\n"
          ],
          "name": "stdout"
        }
      ]
    },
    {
      "cell_type": "code",
      "metadata": {
        "tags": [],
        "id": "4nkcSH_wq-AR",
        "outputId": "c05f30ba-5b91-44ae-f036-e766d2331104"
      },
      "source": [
        "#Random Forest Regression\n",
        "regressor = RandomForestRegressor(n_estimators=50).fit(X_train, y_train)\n",
        "from sklearn.metrics import r2_score\n",
        "y_train_pred=regressor.predict(X_test)\n",
        "print(r2_score(y_train_pred, y_test))\n",
        "print(mean_squared_error(y_train_pred, y_test))"
      ],
      "execution_count": null,
      "outputs": [
        {
          "output_type": "stream",
          "text": [
            "0.999999991408993\n",
            "9.586362626529772e-09\n"
          ],
          "name": "stdout"
        }
      ]
    },
    {
      "cell_type": "code",
      "metadata": {
        "tags": [],
        "id": "uGt9kmywq-AV",
        "outputId": "edb51e11-ba1e-495a-f8d1-21400f6e163f"
      },
      "source": [
        "#ExtraTrees Regression\n",
        "regressor = ExtraTreesRegressor(n_estimators=150).fit(X_train, y_train)\n",
        "from sklearn.metrics import r2_score\n",
        "y_train_pred=regressor.predict(X_test)\n",
        "print(r2_score(y_train_pred, y_test))\n",
        "print(mean_squared_error(y_train_pred, y_test))"
      ],
      "execution_count": null,
      "outputs": [
        {
          "output_type": "stream",
          "text": [
            "0.999999999907933\n",
            "1.027342706739172e-10\n"
          ],
          "name": "stdout"
        }
      ]
    },
    {
      "cell_type": "code",
      "metadata": {
        "tags": [],
        "id": "N_G4BTaaq-AY",
        "outputId": "c05e2c04-37c1-449a-bd66-996f6f2a5251"
      },
      "source": [
        "#Suppport Vector Regression\n",
        "regressor = SVR(kernel='rbf', degree=3, C=100, gamma=0.1).fit(X_train, y_train)\n",
        "from sklearn.metrics import r2_score\n",
        "y_train_pred=regressor.predict(X_test)\n",
        "print(r2_score(y_train_pred, y_test))\n",
        "print(mean_squared_error(y_train_pred, y_test))\n",
        "# linear:- score 0.9934689389870804\n",
        "# mean_squared_error 0.0070262635041696"
      ],
      "execution_count": null,
      "outputs": [
        {
          "output_type": "stream",
          "text": [
            "0.9973159186609292\n",
            "0.003072720980098993\n"
          ],
          "name": "stdout"
        }
      ]
    },
    {
      "cell_type": "code",
      "metadata": {
        "tags": [],
        "id": "QMXyMNWdq-Ac",
        "outputId": "3a7e8113-ae55-49cb-9bf0-77b1cdb1582f"
      },
      "source": [
        "#Gradient Boosting Regression\n",
        "regressor = GradientBoostingRegressor(n_estimators=50)  .fit(X_train, y_train)\n",
        "from sklearn.metrics import r2_score\n",
        "y_train_pred=regressor.predict(X_test)\n",
        "print(r2_score(y_train_pred, y_test))\n",
        "print(mean_squared_error(y_train_pred, y_test))"
      ],
      "execution_count": null,
      "outputs": [
        {
          "output_type": "stream",
          "text": [
            "0.9998569772655139\n",
            "0.0001575676809254067\n"
          ],
          "name": "stdout"
        }
      ]
    },
    {
      "cell_type": "code",
      "metadata": {
        "tags": [],
        "id": "x2Tx-dgYq-Af",
        "outputId": "1b7fdbae-aa89-4060-b480-5218880793a3"
      },
      "source": [
        "#Ada Boosting Regression\n",
        "regressor = AdaBoostRegressor(n_estimators = 1000, random_state = 42).fit(X_train, y_train)\n",
        "from sklearn.metrics import r2_score\n",
        "y_train_pred=regressor.predict(X_test)\n",
        "print(r2_score(y_train_pred, y_test))\n",
        "print(mean_squared_error(y_train_pred, y_test))"
      ],
      "execution_count": null,
      "outputs": [
        {
          "output_type": "stream",
          "text": [
            "0.9929491404867701\n",
            "0.007646129434180298\n"
          ],
          "name": "stdout"
        }
      ]
    },
    {
      "cell_type": "code",
      "metadata": {
        "tags": [],
        "id": "VdSs5H_aq-Ah",
        "outputId": "d4304c43-6007-483a-c6ca-ed41effd8c4b"
      },
      "source": [
        "#Decision Tree Regression\n",
        "regressor = DecisionTreeRegressor(random_state = 42).fit(X_train, y_train)\n",
        "from sklearn.metrics import r2_score\n",
        "y_train_pred=regressor.predict(X_test)\n",
        "print(r2_score(y_train_pred, y_test))\n",
        "print(mean_squared_error(y_train_pred, y_test))"
      ],
      "execution_count": null,
      "outputs": [
        {
          "output_type": "stream",
          "text": [
            "0.9999999972879345\n",
            "3.0263045729587374e-09\n"
          ],
          "name": "stdout"
        }
      ]
    },
    {
      "cell_type": "code",
      "metadata": {
        "id": "osWxNGegq-An"
      },
      "source": [
        ""
      ],
      "execution_count": null,
      "outputs": []
    }
  ]
}